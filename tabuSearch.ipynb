{
  "nbformat": 4,
  "nbformat_minor": 0,
  "metadata": {
    "colab": {
      "name": "tabuSearch.ipynb",
      "provenance": [],
      "collapsed_sections": []
    },
    "kernelspec": {
      "name": "python3",
      "display_name": "Python 3"
    },
    "language_info": {
      "name": "python"
    }
  },
  "cells": [
    {
      "cell_type": "code",
      "metadata": {
        "id": "RxWesedJ3CMq"
      },
      "source": [
        "import random \n",
        "import json"
      ],
      "execution_count": 1,
      "outputs": []
    },
    {
      "cell_type": "code",
      "metadata": {
        "id": "ryg7qC0n1pL1"
      },
      "source": [
        "class State: \n",
        "  def __init__(self, bag: dict): \n",
        "     self.bag = self.gen_bag(bag)\n",
        "     self.evaluate()  \n",
        "  \n",
        "  def gen_bag(self, parent_bag): \n",
        "    mutation = random.sample(range(0, 14), 1)\n",
        "    bag = parent_bag \n",
        "\n",
        "    for m in mutation: \n",
        "      m = str(m)\n",
        "      if bag[m][\"isContained\"]: \n",
        "        bag[m][\"isContained\"] = False\n",
        "      else: \n",
        "          bag[m][\"isContained\"] = True \n",
        "\n",
        "    return bag\n",
        "\n",
        "  def evaluate(self): \n",
        "    w = 0\n",
        "    v = 0\n",
        "\n",
        "    for key in self.bag.keys(): \n",
        "      if self.bag[key][\"isContained\"]:\n",
        "        w += self.bag[key][\"w\"]\n",
        "        v += self.bag[key][\"v\"]\n",
        "\n",
        "    self.w = w \n",
        "    self.v = v\n",
        "    self.signature = f'{w}{v}'\n",
        "      \n",
        "  def __del__(self): \n",
        "    del self.bag "
      ],
      "execution_count": 87,
      "outputs": []
    },
    {
      "cell_type": "code",
      "metadata": {
        "id": "d7BVOvMV9k6w"
      },
      "source": [
        "def tabu_search(state):\n",
        "   global visited \n",
        "   global best_state\n",
        "    \n",
        "   visited.append(state.signature) \n",
        "   for iter in range(ITERATIONS): \n",
        "    if state.v > best_state.v: \n",
        "      best_state = state \n",
        "    \n",
        "    bag = state.bag\n",
        "    while True: \n",
        "      state = State(bag) \n",
        "      if state.w > MAX_W: \n",
        "        del state \n",
        "        continue \n",
        "      \n",
        "      if state.signature in visited: \n",
        "        del state \n",
        "        continue \n",
        "\n",
        "      visited.append(state.signature) \n",
        "      break \n",
        "    \n",
        "    if len(visited) > TABU_LEN: \n",
        "      visited.pop(0)"
      ],
      "execution_count": 3,
      "outputs": []
    },
    {
      "cell_type": "code",
      "metadata": {
        "id": "KZ5Iwuwj5-C6"
      },
      "source": [
        "bag = {\n",
        "  \"0\": {\"isContained\": False, \"w\": 63, \"v\": 13},\n",
        "  \"1\": {\"isContained\": False, \"w\": 21, \"v\": 2 },\n",
        "  \"2\": {\"isContained\": False, \"w\": 2, \"v\": 20 },\n",
        "  \"3\": {\"isContained\": False, \"w\": 32, \"v\": 10},\n",
        "  \"4\": {\"isContained\": False, \"w\": 13, \"v\": 7 },\n",
        "  \"5\": {\"isContained\": False, \"w\": 80, \"v\": 14},\n",
        "  \"6\": {\"isContained\": False, \"w\": 19, \"v\": 7 },\n",
        "  \"7\": {\"isContained\": False, \"w\": 37, \"v\": 2 },\n",
        "  \"8\": {\"isContained\": False, \"w\": 56, \"v\": 2 },\n",
        "  \"9\": {\"isContained\": True, \"w\": 41, \"v\": 4 },\n",
        "  \"10\": {\"isContained\": True, \"w\": 14, \"v\": 16},\n",
        "  \"11\": {\"isContained\": True, \"w\": 8, \"v\": 17 },\n",
        "  \"12\": {\"isContained\": True, \"w\": 32, \"v\": 17},\n",
        "  \"13\": {\"isContained\": True, \"w\": 42, \"v\": 3 },\n",
        "  \"14\": {\"isContained\": True, \"w\": 7, \"v\": 21 },     \n",
        "}"
      ],
      "execution_count": 14,
      "outputs": []
    },
    {
      "cell_type": "code",
      "metadata": {
        "id": "WPzbDU1Vbxob"
      },
      "source": [
        "def randomize_bag(bag):\n",
        "  w = MAX_W + 1\n",
        "\n",
        "  while w > MAX_W:\n",
        "    w = 0\n",
        "    for key in bag.keys(): \n",
        "      bag[key][\"isContained\"] = random.choice([True, False])\n",
        "      if bag[key][\"isContained\"]:\n",
        "        w += bag[key][\"w\"]\n",
        " \n",
        "  return bag"
      ],
      "execution_count": 12,
      "outputs": []
    },
    {
      "cell_type": "code",
      "metadata": {
        "id": "c1-WArz21Zaw"
      },
      "source": [
        "MAX_W = 275\n",
        "ITERATIONS = 7000\n",
        "TABU_LEN = 1000\n",
        "visited = []\n",
        "\n",
        "bag = randomize_bag(bag)\n",
        "state = State(bag)\n",
        "best_state = state"
      ],
      "execution_count": 117,
      "outputs": []
    },
    {
      "cell_type": "code",
      "metadata": {
        "colab": {
          "base_uri": "https://localhost:8080/"
        },
        "id": "z_JtHFNdERzj",
        "outputId": "6967617b-90c1-43f7-eac7-293c1a935f91"
      },
      "source": [
        "print(f'Melhor Resultado: W = {best_state.w}; V = {best_state.v}')"
      ],
      "execution_count": 118,
      "outputs": [
        {
          "output_type": "stream",
          "text": [
            "Melhor Resultado: W = 173; V = 75\n"
          ],
          "name": "stdout"
        }
      ]
    },
    {
      "cell_type": "code",
      "metadata": {
        "id": "HErQGIFxD4Fm"
      },
      "source": [
        "tabu_search(state)"
      ],
      "execution_count": 119,
      "outputs": []
    },
    {
      "cell_type": "code",
      "metadata": {
        "colab": {
          "base_uri": "https://localhost:8080/"
        },
        "id": "SlpW88k3ELY3",
        "outputId": "10f1dbb5-2a1e-458e-fac2-e4bf83e0dc09"
      },
      "source": [
        "print(f'Melhor Resultado: W = {best_state.w}; V = {best_state.v}')"
      ],
      "execution_count": 120,
      "outputs": [
        {
          "output_type": "stream",
          "text": [
            "Melhor Resultado: W = 270; V = 142\n"
          ],
          "name": "stdout"
        }
      ]
    },
    {
      "cell_type": "code",
      "metadata": {
        "colab": {
          "base_uri": "https://localhost:8080/"
        },
        "id": "7nWfaqm9JWgh",
        "outputId": "39ffdaf9-e50a-466f-d4c9-ba2f493f1942"
      },
      "source": [
        " print(json.dumps(best_state.bag, sort_keys=True, indent=4))"
      ],
      "execution_count": 67,
      "outputs": [
        {
          "output_type": "stream",
          "text": [
            "{\n",
            "    \"0\": {\n",
            "        \"isContained\": true,\n",
            "        \"v\": 13,\n",
            "        \"w\": 63\n",
            "    },\n",
            "    \"1\": {\n",
            "        \"isContained\": false,\n",
            "        \"v\": 2,\n",
            "        \"w\": 21\n",
            "    },\n",
            "    \"10\": {\n",
            "        \"isContained\": false,\n",
            "        \"v\": 16,\n",
            "        \"w\": 14\n",
            "    },\n",
            "    \"11\": {\n",
            "        \"isContained\": false,\n",
            "        \"v\": 17,\n",
            "        \"w\": 8\n",
            "    },\n",
            "    \"12\": {\n",
            "        \"isContained\": false,\n",
            "        \"v\": 17,\n",
            "        \"w\": 32\n",
            "    },\n",
            "    \"13\": {\n",
            "        \"isContained\": true,\n",
            "        \"v\": 3,\n",
            "        \"w\": 42\n",
            "    },\n",
            "    \"14\": {\n",
            "        \"isContained\": true,\n",
            "        \"v\": 21,\n",
            "        \"w\": 7\n",
            "    },\n",
            "    \"2\": {\n",
            "        \"isContained\": true,\n",
            "        \"v\": 20,\n",
            "        \"w\": 2\n",
            "    },\n",
            "    \"3\": {\n",
            "        \"isContained\": false,\n",
            "        \"v\": 10,\n",
            "        \"w\": 32\n",
            "    },\n",
            "    \"4\": {\n",
            "        \"isContained\": false,\n",
            "        \"v\": 7,\n",
            "        \"w\": 13\n",
            "    },\n",
            "    \"5\": {\n",
            "        \"isContained\": false,\n",
            "        \"v\": 14,\n",
            "        \"w\": 80\n",
            "    },\n",
            "    \"6\": {\n",
            "        \"isContained\": false,\n",
            "        \"v\": 7,\n",
            "        \"w\": 19\n",
            "    },\n",
            "    \"7\": {\n",
            "        \"isContained\": false,\n",
            "        \"v\": 2,\n",
            "        \"w\": 37\n",
            "    },\n",
            "    \"8\": {\n",
            "        \"isContained\": true,\n",
            "        \"v\": 2,\n",
            "        \"w\": 56\n",
            "    },\n",
            "    \"9\": {\n",
            "        \"isContained\": true,\n",
            "        \"v\": 4,\n",
            "        \"w\": 41\n",
            "    }\n",
            "}\n"
          ],
          "name": "stdout"
        }
      ]
    }
  ]
}