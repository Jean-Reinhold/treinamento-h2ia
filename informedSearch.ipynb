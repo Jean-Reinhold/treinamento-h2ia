{
  "nbformat": 4,
  "nbformat_minor": 0,
  "metadata": {
    "colab": {
      "name": "informedSearch.ipynb",
      "provenance": [],
      "collapsed_sections": []
    },
    "kernelspec": {
      "name": "python3",
      "display_name": "Python 3"
    },
    "language_info": {
      "name": "python"
    }
  },
  "cells": [
    {
      "cell_type": "markdown",
      "metadata": {
        "id": "21uUELma0562"
      },
      "source": [
        "# O Problema\n",
        "Sliding Puzzle - Bloco Deslizante"
      ]
    },
    {
      "cell_type": "code",
      "metadata": {
        "id": "duRbJW3rz01L",
        "colab": {
          "base_uri": "https://localhost:8080/",
          "height": 218
        },
        "outputId": "18d51c56-28cd-4728-b30a-726985bf3c3d"
      },
      "source": [
        "# !wget -qq https://miro.medium.com/max/700/1*W7jg4GmEjGBypd9WPktasQ.gif\n",
        "from IPython.display import Image\n",
        "Image(url='https://miro.medium.com/max/700/1*W7jg4GmEjGBypd9WPktasQ.gif',width=200)"
      ],
      "execution_count": null,
      "outputs": [
        {
          "output_type": "execute_result",
          "data": {
            "text/html": [
              "<img src=\"https://miro.medium.com/max/700/1*W7jg4GmEjGBypd9WPktasQ.gif\" width=\"200\"/>"
            ],
            "text/plain": [
              "<IPython.core.display.Image object>"
            ]
          },
          "metadata": {
            "tags": []
          },
          "execution_count": 2
        }
      ]
    },
    {
      "cell_type": "markdown",
      "metadata": {
        "id": "f6TPxqB-1Cwx"
      },
      "source": [
        "# Resolver o quebra-cabeças usando Buscas"
      ]
    },
    {
      "cell_type": "code",
      "metadata": {
        "colab": {
          "base_uri": "https://localhost:8080/"
        },
        "id": "0XY48LvsAkwV",
        "outputId": "b3925252-3247-4130-e86a-6cf087b9d373"
      },
      "source": [
        "!pip install Levenshtein"
      ],
      "execution_count": 24,
      "outputs": [
        {
          "output_type": "stream",
          "text": [
            "Collecting Levenshtein\n",
            "\u001b[?25l  Downloading https://files.pythonhosted.org/packages/8e/41/ff25ae28c972a63abde29cd5cea7c648ae0e16b334693cede0522e66dd68/levenshtein-0.12.0-cp37-cp37m-manylinux1_x86_64.whl (158kB)\n",
            "\r\u001b[K     |██                              | 10kB 16.2MB/s eta 0:00:01\r\u001b[K     |████▏                           | 20kB 13.8MB/s eta 0:00:01\r\u001b[K     |██████▏                         | 30kB 10.0MB/s eta 0:00:01\r\u001b[K     |████████▎                       | 40kB 12.2MB/s eta 0:00:01\r\u001b[K     |██████████▍                     | 51kB 8.1MB/s eta 0:00:01\r\u001b[K     |████████████▍                   | 61kB 9.4MB/s eta 0:00:01\r\u001b[K     |██████████████▌                 | 71kB 8.3MB/s eta 0:00:01\r\u001b[K     |████████████████▋               | 81kB 8.0MB/s eta 0:00:01\r\u001b[K     |██████████████████▋             | 92kB 8.7MB/s eta 0:00:01\r\u001b[K     |████████████████████▊           | 102kB 7.7MB/s eta 0:00:01\r\u001b[K     |██████████████████████▉         | 112kB 7.7MB/s eta 0:00:01\r\u001b[K     |████████████████████████▉       | 122kB 7.7MB/s eta 0:00:01\r\u001b[K     |███████████████████████████     | 133kB 7.7MB/s eta 0:00:01\r\u001b[K     |█████████████████████████████   | 143kB 7.7MB/s eta 0:00:01\r\u001b[K     |███████████████████████████████ | 153kB 7.7MB/s eta 0:00:01\r\u001b[K     |████████████████████████████████| 163kB 7.7MB/s \n",
            "\u001b[?25hRequirement already satisfied: setuptools in /usr/local/lib/python3.7/dist-packages (from Levenshtein) (57.0.0)\n",
            "Installing collected packages: Levenshtein\n",
            "Successfully installed Levenshtein-0.12.0\n"
          ],
          "name": "stdout"
        }
      ]
    },
    {
      "cell_type": "code",
      "metadata": {
        "id": "CqSNIXUFMkbb"
      },
      "source": [
        "import numpy as np \n",
        "from collections import deque \n",
        "import itertools\n",
        "import functools\n",
        "import resource\n",
        "import sys\n",
        "import Levenshtein"
      ],
      "execution_count": 25,
      "outputs": []
    },
    {
      "cell_type": "code",
      "metadata": {
        "id": "G7tv0wBmQAcv"
      },
      "source": [
        "class Node(): \n",
        "    def __init__ (self, board, parent): \n",
        "        self.board = board \n",
        "        self.signature = self.get_signature() \n",
        "        self.parent = parent\n",
        "        self.empty_pos = self.get_empty_pos() \n",
        "        self.cost = 0\n",
        "        self.children = []\n",
        "\n",
        "    def get_signature (self): \n",
        "        flattenBoard = list(itertools.chain.from_iterable(self.board)) \n",
        "        listToSignature = lambda a, b: str(a) + str(b)\n",
        "\n",
        "        return functools.reduce(listToSignature, flattenBoard)\n",
        "\n",
        "    def get_possible_moves (self): \n",
        "        all_moves = [\n",
        "            (0, 1),\n",
        "            (1, 0),\n",
        "            (0, -1), \n",
        "            (-1, 0)\n",
        "            ] \n",
        "        \n",
        "        x, y = self.empty_pos \n",
        "        possibleMoves = list() \n",
        "\n",
        "        for xDelta, yDelta in all_moves: \n",
        "            newX = x + xDelta\n",
        "            newY = y + yDelta \n",
        "            \n",
        "            if (-1 < newX < 3) and ((-1 < newY < 3)):\n",
        "                move = (newX, newY) \n",
        "                possibleMoves.append(move) \n",
        "        \n",
        "        return possibleMoves \n",
        "\n",
        " \n",
        "    def apply_move (self, move): \n",
        "        new_board = self.board.copy()\n",
        "\n",
        "        new_board[self.empty_pos], new_board[move] = new_board[move], new_board[self.empty_pos]\n",
        "        return new_board\n",
        "\n",
        "    def get_children (self): \n",
        "        children = [] \n",
        "        possible_moves = self.get_possible_moves() \n",
        "\n",
        "        for move in possible_moves: \n",
        "            child_board = self.apply_move(move)  \n",
        "            child = Node(child_board, self)\n",
        "\n",
        "            children.append(child) \n",
        "\n",
        "        self.children = children \n",
        "\n",
        "    def get_empty_pos (self): \n",
        "        y, x = np.where(self.board == 0)\n",
        "        x = x.item() \n",
        "        y = y.item()\n",
        "     \n",
        "        return (y, x)"
      ],
      "execution_count": 26,
      "outputs": []
    },
    {
      "cell_type": "code",
      "metadata": {
        "id": "vn3rtNZnAinX"
      },
      "source": [
        "def print_solution (initial_node, end_node): \n",
        "  solution = []\n",
        "  while not (end_node.parent == None): \n",
        "    solution.append(end_node.board)\n",
        "    end_node = end_node.parent \n",
        "  \n",
        "  solution = solution[::-1]\n",
        "\n",
        "  print(initial_node.board)\n",
        "  print(\"\")\n",
        "\n",
        "  for board in solution:\n",
        "    print(board)\n",
        "    print(\"\")\n"
      ],
      "execution_count": 27,
      "outputs": []
    },
    {
      "cell_type": "code",
      "metadata": {
        "id": "C5ZpJhGhA2qM"
      },
      "source": [
        "def h(node): \n",
        "  # Uses Levenshteins distance as heuristic\n",
        "  solution_signature = \"123456780\"\n",
        "  return Levenshtein.distance(node.signature, solution_signature)"
      ],
      "execution_count": 56,
      "outputs": []
    },
    {
      "cell_type": "code",
      "metadata": {
        "id": "uPRQIOCqGiLv"
      },
      "source": [
        "def h(node): \n",
        "  # Uses tiles misplaced as heuristic\n",
        "  solution_signature = \"123456780\"\n",
        "  cost = 0\n",
        "  for i, j in zip(solution_signature, node.signature): \n",
        "    if i =! j: \n",
        "      cost += 1\n",
        "  return cost "
      ],
      "execution_count": null,
      "outputs": []
    },
    {
      "cell_type": "code",
      "metadata": {
        "id": "mbEKjDEOG3Tf"
      },
      "source": [
        "def h(node): \n",
        "  # Uses gradient as heuristic\n",
        "  solution_signature = \"123456780\"\n",
        "  cost = 0\n",
        "  for i, j in zip(solution_signature, node.signature):  \n",
        "    cost += abs(int(i) - int(j)) \n",
        "  return cost "
      ],
      "execution_count": 68,
      "outputs": []
    },
    {
      "cell_type": "code",
      "metadata": {
        "id": "wXSUurSlHoVI"
      },
      "source": [
        "def h(node): \n",
        "  # Uses distance from Gauss sum as heuristic \n",
        "  gauss_sum = 9\n",
        "  cost = 0 \n",
        "\n",
        "  for i, j in zip(range(4), range(-2, -6, -1)): \n",
        "   cost += abs(int(node.signature[i]) + int(node.signature[j]) - gauss_sum) \n",
        "  return cost"
      ],
      "execution_count": 83,
      "outputs": []
    },
    {
      "cell_type": "markdown",
      "metadata": {
        "id": "o6ZClGCC1RxB"
      },
      "source": [
        "## A*"
      ]
    },
    {
      "cell_type": "code",
      "metadata": {
        "id": "UW7P0TWkPW-G"
      },
      "source": [
        "def a_star(initial_node):\n",
        "    solution_signature = \"123456780\"\n",
        "    visited_nodes = set() \n",
        "\n",
        "    if initial_node.signature == solution_signature:\n",
        "        return initial_node\n",
        "  \n",
        "    q = deque()\n",
        "    q.append(initial_node)\n",
        "    visited_nodes.add(initial_node)\n",
        "\n",
        "    while (len(q) > 0):\n",
        "        q = deque(sorted(list(q), key=lambda node: node.cost))\n",
        "        q[0].get_children()\n",
        "\n",
        "        for i in q[0].children:\n",
        "            if i in visited_nodes: \n",
        "              continue\n",
        "            i.cost = h(i) + len(q)**1.5 + i.parent.cost\n",
        "            visited_nodes.add(i)\n",
        "\n",
        "            if i.signature == solution_signature:\n",
        "                return i\n",
        "            q.append(i)\n",
        "        q.popleft()"
      ],
      "execution_count": 84,
      "outputs": []
    },
    {
      "cell_type": "code",
      "metadata": {
        "id": "gz3FLHwJoRX4"
      },
      "source": [
        "board =np.array([[2, 3, 5],\n",
        "                 [1, 4, 0],\n",
        "                 [7, 8, 6]])"
      ],
      "execution_count": 91,
      "outputs": []
    },
    {
      "cell_type": "code",
      "metadata": {
        "id": "FvCc8MY2qnbm"
      },
      "source": [
        "initial_node = Node(board=board, parent=None)\n",
        "end_node = a_star(initial_node)"
      ],
      "execution_count": 92,
      "outputs": []
    },
    {
      "cell_type": "code",
      "metadata": {
        "colab": {
          "base_uri": "https://localhost:8080/"
        },
        "id": "wcrWDv-PAhoY",
        "outputId": "e7ab49fd-3a88-417c-c9b4-91f848ea4601"
      },
      "source": [
        "print_solution(initial_node, end_node)"
      ],
      "execution_count": 93,
      "outputs": [
        {
          "output_type": "stream",
          "text": [
            "[[2 3 5]\n",
            " [1 4 0]\n",
            " [7 8 6]]\n",
            "\n",
            "[[2 3 0]\n",
            " [1 4 5]\n",
            " [7 8 6]]\n",
            "\n",
            "[[2 0 3]\n",
            " [1 4 5]\n",
            " [7 8 6]]\n",
            "\n",
            "[[0 2 3]\n",
            " [1 4 5]\n",
            " [7 8 6]]\n",
            "\n",
            "[[1 2 3]\n",
            " [0 4 5]\n",
            " [7 8 6]]\n",
            "\n",
            "[[1 2 3]\n",
            " [4 0 5]\n",
            " [7 8 6]]\n",
            "\n",
            "[[1 2 3]\n",
            " [4 5 0]\n",
            " [7 8 6]]\n",
            "\n",
            "[[1 2 3]\n",
            " [4 5 6]\n",
            " [7 8 0]]\n",
            "\n"
          ],
          "name": "stdout"
        }
      ]
    },
    {
      "cell_type": "markdown",
      "metadata": {
        "id": "OnyJelflJ7Qk"
      },
      "source": [
        "## Considerações\n",
        "\n",
        " &nbsp;&nbsp;&nbsp;&nbsp;  A escolha da heurística é uma tarefa complexa e as alternativas são muitas. Neste problema é dificil determinar uma heurística simples, visto que a \"ordenação\" das peças é importante, mas as soluções mais otimizadas, as vezes, podem ser bastante \"desordenadas\". <br>\n",
        "&nbsp;&nbsp;&nbsp;&nbsp;  Uma heurística possível, que não foi testada, é a de uma janela deslizante bidimensional(2x2) na matriz do jogo verificando se os números próximos aquele setor estão contidos, dado que este é um método utilizado por jogadores reais. <br><br>\n",
        "&nbsp;&nbsp;&nbsp;&nbsp; Quanto à consumo de memória, o algorítmo pode expandir e vir a visitar todos os elementos possíveis, porém na média se sai muito bem. Já ao processamento, o calculo de custo e ordenação da fila de estados com prioridade incrementam a complexidade de tempo.\n"
      ]
    }
  ]
}
