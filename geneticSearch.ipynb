{
  "nbformat": 4,
  "nbformat_minor": 0,
  "metadata": {
    "colab": {
      "name": "geneticSearch.ipynb",
      "provenance": [],
      "collapsed_sections": []
    },
    "kernelspec": {
      "name": "python3",
      "display_name": "Python 3"
    },
    "language_info": {
      "name": "python"
    }
  },
  "cells": [
    {
      "cell_type": "code",
      "metadata": {
        "id": "9MrqGMxzykJF"
      },
      "source": [
        "import random \n",
        "import json"
      ],
      "execution_count": 1,
      "outputs": []
    },
    {
      "cell_type": "code",
      "metadata": {
        "id": "tYr5IivVy5Y5"
      },
      "source": [
        "class State: \n",
        "  def __init__(self, bag: dict): \n",
        "     self.bag = bag\n",
        "     self.evaluate()  \n",
        "\n",
        "  def evaluate(self): \n",
        "    w = 0\n",
        "    v = 0\n",
        "    signature = set()\n",
        "\n",
        "    for key in self.bag.keys(): \n",
        "      if self.bag[key][\"isContained\"]:\n",
        "        w += self.bag[key][\"w\"]\n",
        "        v += self.bag[key][\"v\"]\n",
        "        signature.add(key)\n",
        "\n",
        "    self.w = w \n",
        "    self.v = v\n",
        "    self.signature = signature  \n",
        "      \n",
        "  def __del__(self): \n",
        "    del self.bag"
      ],
      "execution_count": 2,
      "outputs": []
    },
    {
      "cell_type": "code",
      "metadata": {
        "id": "rJ2G7C34zaf6"
      },
      "source": [
        "def randomize(bag):\n",
        "  w = MAX_W + 1\n",
        "\n",
        "  while w > MAX_W:\n",
        "    w = 0\n",
        "    for key in bag.keys(): \n",
        "      bag[key][\"isContained\"] = random.choice([True, False])\n",
        "      if bag[key][\"isContained\"]:\n",
        "        w += bag[key][\"w\"]\n",
        " \n",
        "  return bag"
      ],
      "execution_count": 3,
      "outputs": []
    },
    {
      "cell_type": "code",
      "metadata": {
        "id": "MQEDQWAVFsfh"
      },
      "source": [
        "def reproduce(best_fit, n): \n",
        "  population = best_fit \n",
        "  global MAX_W\n",
        "\n",
        "  while len(population) < n: \n",
        "    for key in bag.keys(): \n",
        "      p1 = random.choice(best_fit)\n",
        "      p2 = random.choice(best_fit)\n",
        "      \n",
        "      new_bag = dict()\n",
        "      for i in range(7): \n",
        "        new_bag[str(i)] = p1.bag[str(i)]\n",
        "\n",
        "      for i in range(7, 15, 1): \n",
        "        new_bag[str(i)] = p1.bag[str(i)]\n",
        "      \n",
        "      i = str(random.choice(range(15)))\n",
        "      new_bag[i][\"isContained\"] = not new_bag[i][\"isContained\"]\n",
        "      child = State(new_bag) \n",
        "\n",
        "      if child.w > MAX_W: \n",
        "        del child \n",
        "        continue\n",
        "      population.append(child)\n",
        "  \n",
        "  return population"
      ],
      "execution_count": 4,
      "outputs": []
    },
    {
      "cell_type": "code",
      "metadata": {
        "id": "oWUqRMe2U2G4"
      },
      "source": [
        "def select(population, n):\n",
        "  population = sorted(population, key = lambda item: item.v) \n",
        "  return population[n:]"
      ],
      "execution_count": 5,
      "outputs": []
    },
    {
      "cell_type": "code",
      "metadata": {
        "id": "7dy_3Y4pPis6"
      },
      "source": [
        "def find_best_indiv(population):\n",
        "  best_v = 0\n",
        "  for individual in population: \n",
        "    if individual.v > best_v: \n",
        "      best_individual = individual \n",
        "      best_v = individual.v \n",
        "  \n",
        "  return best_individual"
      ],
      "execution_count": 6,
      "outputs": []
    },
    {
      "cell_type": "code",
      "metadata": {
        "id": "wNHqzv47y-I1"
      },
      "source": [
        "bag = {\n",
        "  \"0\": {\"isContained\": False, \"w\": 63, \"v\": 13},\n",
        "  \"1\": {\"isContained\": False, \"w\": 21, \"v\": 2 },\n",
        "  \"2\": {\"isContained\": False, \"w\": 2, \"v\": 20 },\n",
        "  \"3\": {\"isContained\": False, \"w\": 32, \"v\": 10},\n",
        "  \"4\": {\"isContained\": False, \"w\": 13, \"v\": 7 },\n",
        "  \"5\": {\"isContained\": False, \"w\": 80, \"v\": 14},\n",
        "  \"6\": {\"isContained\": False, \"w\": 19, \"v\": 7 },\n",
        "  \"7\": {\"isContained\": False, \"w\": 37, \"v\": 2 },\n",
        "  \"8\": {\"isContained\": False, \"w\": 56, \"v\": 2 },\n",
        "  \"9\": {\"isContained\": True, \"w\": 41, \"v\": 4 },\n",
        "  \"10\": {\"isContained\": True, \"w\": 14, \"v\": 16},\n",
        "  \"11\": {\"isContained\": True, \"w\": 8, \"v\": 17 },\n",
        "  \"12\": {\"isContained\": True, \"w\": 32, \"v\": 17},\n",
        "  \"13\": {\"isContained\": True, \"w\": 42, \"v\": 3 },\n",
        "  \"14\": {\"isContained\": True, \"w\": 7, \"v\": 21 },     \n",
        "}"
      ],
      "execution_count": 7,
      "outputs": []
    },
    {
      "cell_type": "code",
      "metadata": {
        "id": "ThKtkmdnzlgg"
      },
      "source": [
        "def initialize_population(bag, n): \n",
        "  population = []\n",
        "  while len(population) < n:\n",
        "    child = State(randomize(bag))\n",
        "    population.append(child)\n",
        "  \n",
        "  return population"
      ],
      "execution_count": 8,
      "outputs": []
    },
    {
      "cell_type": "code",
      "metadata": {
        "id": "UfOqhBvANEH9"
      },
      "source": [
        "MAX_W = 275\n",
        "GENERATIONS = 200\n",
        "POP_SIZE = 150"
      ],
      "execution_count": 36,
      "outputs": []
    },
    {
      "cell_type": "code",
      "metadata": {
        "id": "j5BOYUDUMot-"
      },
      "source": [
        "population = initialize_population(bag, POP_SIZE)"
      ],
      "execution_count": 37,
      "outputs": []
    },
    {
      "cell_type": "code",
      "metadata": {
        "id": "wUiX5KHHOluf"
      },
      "source": [
        "def genetic_search(population, generations):\n",
        "  best_individual = find_best_indiv(population) \n",
        "  for i in range(generations): \n",
        "    new_gen = select(population, int(POP_SIZE/2))\n",
        "    new_gen = reproduce(new_gen, POP_SIZE) \n",
        "    best_from_gen = find_best_indiv(new_gen) \n",
        "    if best_from_gen.v > best_individual.v: \n",
        "      best_individual = best_from_gen\n",
        "    \n",
        "  return best_individual"
      ],
      "execution_count": 24,
      "outputs": []
    },
    {
      "cell_type": "code",
      "metadata": {
        "id": "UzWi6cVqRrQB"
      },
      "source": [
        "best_state = genetic_search(population, GENERATIONS)"
      ],
      "execution_count": 38,
      "outputs": []
    },
    {
      "cell_type": "code",
      "metadata": {
        "colab": {
          "base_uri": "https://localhost:8080/"
        },
        "id": "eHGIrBSwTbyM",
        "outputId": "be3de8f7-e08d-4b47-9374-9ee5d0d5213b"
      },
      "source": [
        "print(f'Melhor Resultado: W = {best_state.w}; V = {best_state.v}')"
      ],
      "execution_count": 39,
      "outputs": [
        {
          "output_type": "stream",
          "text": [
            "Melhor Resultado: W = 272; V = 137\n"
          ],
          "name": "stdout"
        }
      ]
    },
    {
      "cell_type": "code",
      "metadata": {
        "id": "6IbrZalsY93D"
      },
      "source": [
        ""
      ],
      "execution_count": null,
      "outputs": []
    },
    {
      "cell_type": "code",
      "metadata": {
        "colab": {
          "base_uri": "https://localhost:8080/"
        },
        "id": "KV8R7cOrTj_d",
        "outputId": "35fc30a5-daa0-4bc4-821f-46fe4e2c0c2f"
      },
      "source": [
        "print(json.dumps(best_state.bag, sort_keys=True, indent=4))"
      ],
      "execution_count": 27,
      "outputs": [
        {
          "output_type": "stream",
          "text": [
            "{\n",
            "    \"0\": {\n",
            "        \"isContained\": true,\n",
            "        \"v\": 13,\n",
            "        \"w\": 63\n",
            "    },\n",
            "    \"1\": {\n",
            "        \"isContained\": false,\n",
            "        \"v\": 2,\n",
            "        \"w\": 21\n",
            "    },\n",
            "    \"10\": {\n",
            "        \"isContained\": true,\n",
            "        \"v\": 16,\n",
            "        \"w\": 14\n",
            "    },\n",
            "    \"11\": {\n",
            "        \"isContained\": false,\n",
            "        \"v\": 17,\n",
            "        \"w\": 8\n",
            "    },\n",
            "    \"12\": {\n",
            "        \"isContained\": true,\n",
            "        \"v\": 17,\n",
            "        \"w\": 32\n",
            "    },\n",
            "    \"13\": {\n",
            "        \"isContained\": false,\n",
            "        \"v\": 3,\n",
            "        \"w\": 42\n",
            "    },\n",
            "    \"14\": {\n",
            "        \"isContained\": true,\n",
            "        \"v\": 21,\n",
            "        \"w\": 7\n",
            "    },\n",
            "    \"2\": {\n",
            "        \"isContained\": true,\n",
            "        \"v\": 20,\n",
            "        \"w\": 2\n",
            "    },\n",
            "    \"3\": {\n",
            "        \"isContained\": true,\n",
            "        \"v\": 10,\n",
            "        \"w\": 32\n",
            "    },\n",
            "    \"4\": {\n",
            "        \"isContained\": false,\n",
            "        \"v\": 7,\n",
            "        \"w\": 13\n",
            "    },\n",
            "    \"5\": {\n",
            "        \"isContained\": false,\n",
            "        \"v\": 14,\n",
            "        \"w\": 80\n",
            "    },\n",
            "    \"6\": {\n",
            "        \"isContained\": false,\n",
            "        \"v\": 7,\n",
            "        \"w\": 19\n",
            "    },\n",
            "    \"7\": {\n",
            "        \"isContained\": false,\n",
            "        \"v\": 2,\n",
            "        \"w\": 37\n",
            "    },\n",
            "    \"8\": {\n",
            "        \"isContained\": true,\n",
            "        \"v\": 2,\n",
            "        \"w\": 56\n",
            "    },\n",
            "    \"9\": {\n",
            "        \"isContained\": false,\n",
            "        \"v\": 4,\n",
            "        \"w\": 41\n",
            "    }\n",
            "}\n"
          ],
          "name": "stdout"
        }
      ]
    }
  ]
}